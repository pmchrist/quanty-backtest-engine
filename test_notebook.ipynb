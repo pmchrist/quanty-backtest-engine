{
 "cells": [
  {
   "cell_type": "markdown",
   "metadata": {},
   "source": [
    "# Read Initial Data"
   ]
  },
  {
   "cell_type": "code",
   "execution_count": 54,
   "metadata": {},
   "outputs": [],
   "source": [
    "import pandas as pd\n",
    "time = []\n",
    "open = []\n",
    "high = []\n",
    "low = []\n",
    "close = []\n",
    "volume = []\n",
    "size = -1\n",
    "\n",
    "def read_df(file_name):\n",
    "\n",
    "    df = pd.read_feather(file_name)\n",
    "    df = df.dropna()    # Dropping NA values, so that talib works correctly\n",
    "    global size\n",
    "    size = df.shape[0]\n",
    "    \n",
    "    global time\n",
    "    time = df['time'].to_numpy()\n",
    "\n",
    "    global open\n",
    "    open = df['open'].to_numpy()\n",
    "\n",
    "    global high\n",
    "    high = df['high'].to_numpy()\n",
    "\n",
    "    global low\n",
    "    low = df['low'].to_numpy()\n",
    "\n",
    "    global close\n",
    "    close = df['close'].to_numpy()\n",
    "\n",
    "    global volume\n",
    "    volume = df['volume'].to_numpy()\n",
    "\n",
    "    return\n",
    "\n",
    "read_df(\"data-BNBUSDT1h.feather\")"
   ]
  },
  {
   "cell_type": "markdown",
   "metadata": {},
   "source": [
    "# Create Indicators"
   ]
  },
  {
   "cell_type": "code",
   "execution_count": 55,
   "metadata": {},
   "outputs": [],
   "source": [
    "import sys\n",
    "import numpy as np\n",
    "np.set_printoptions(threshold=sys.maxsize)\n",
    "import talib as ta    # https://github.com/mrjbq7/ta-lib\n",
    "\n",
    "ma_direction = ta.EMA(close, timeperiod=28)\n",
    "atr_direction = ta.ATR(high, low, close, timeperiod=14)"
   ]
  },
  {
   "cell_type": "markdown",
   "metadata": {},
   "source": [
    "# Generate Trades"
   ]
  },
  {
   "cell_type": "code",
   "execution_count": 56,
   "metadata": {},
   "outputs": [],
   "source": [
    "in_trade = 0    # +1 = long_entry, -1 = shor_entry\n",
    "\n",
    "entry_price = -1.0\n",
    "trades_long = []\n",
    "trades_short = []\n",
    "\n",
    "for i in range(size):\n",
    "    # Long Entry\n",
    "    if (ma_direction[i] - close[i] > 2.0*atr_direction[i]\n",
    "        and in_trade == 0.0):\n",
    "        in_trade = +1.0\n",
    "        entry_price = close[i]\n",
    "    # Long Exit\n",
    "    if (ma_direction[i] - close[i] < 0.0\n",
    "        and in_trade == 1.0):\n",
    "        in_trade = 0.0\n",
    "        trades_long.append(close[i]/entry_price)\n",
    "\n",
    "    # Short Entry\n",
    "    if (ma_direction[i] - close[i] < -2.0*atr_direction[i]\n",
    "        and in_trade == 0.0):\n",
    "        in_trade = -1.0\n",
    "        entry_price = close[i]\n",
    "    # Short Exit\n",
    "    if (ma_direction[i] - close[i] > 0.0\n",
    "        and in_trade == -1.0):\n",
    "        in_trade = 0.0\n",
    "        trades_short.append(entry_price/close[i])\n"
   ]
  },
  {
   "attachments": {},
   "cell_type": "markdown",
   "metadata": {},
   "source": [
    "# Calculate Results"
   ]
  },
  {
   "cell_type": "code",
   "execution_count": 57,
   "metadata": {},
   "outputs": [
    {
     "name": "stdout",
     "output_type": "stream",
     "text": [
      "Longs result:  0.5269678534329184\n",
      "Average Long Trade:  0.9996827025941656\n",
      "\n",
      "Shorts result:  0.027721723092249302\n",
      "Average Short Trade:  0.9932448041098874\n"
     ]
    }
   ],
   "source": [
    "long_res = 1.0\n",
    "for k in trades_long:\n",
    "    long_res *= k\n",
    "print(\"Longs result: \", long_res)\n",
    "print(\"Average Long Trade: \", np.sum(trades_long)/len(trades_long))\n",
    "print()\n",
    "\n",
    "short_res = 1.0\n",
    "for k in trades_short:\n",
    "    short_res *= k\n",
    "print(\"Shorts result: \", short_res)\n",
    "print(\"Average Short Trade: \", np.sum(trades_short)/len(trades_short))"
   ]
  },
  {
   "attachments": {},
   "cell_type": "markdown",
   "metadata": {},
   "source": [
    "# Optimize Results"
   ]
  },
  {
   "cell_type": "code",
   "execution_count": null,
   "metadata": {},
   "outputs": [],
   "source": []
  }
 ],
 "metadata": {
  "kernelspec": {
   "display_name": "stoch_sim",
   "language": "python",
   "name": "python3"
  },
  "language_info": {
   "codemirror_mode": {
    "name": "ipython",
    "version": 3
   },
   "file_extension": ".py",
   "mimetype": "text/x-python",
   "name": "python",
   "nbconvert_exporter": "python",
   "pygments_lexer": "ipython3",
   "version": "3.9.13"
  },
  "orig_nbformat": 4,
  "vscode": {
   "interpreter": {
    "hash": "6ae024c808c720eb53f7ce60e2e5d93c4e1909460715d773b9cb8415c3d0ae7e"
   }
  }
 },
 "nbformat": 4,
 "nbformat_minor": 2
}
