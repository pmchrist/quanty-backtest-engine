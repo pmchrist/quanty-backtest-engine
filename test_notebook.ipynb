{
 "cells": [
  {
   "cell_type": "markdown",
   "metadata": {},
   "source": [
    "# Read Initial Data"
   ]
  },
  {
   "cell_type": "code",
   "execution_count": 9,
   "metadata": {},
   "outputs": [],
   "source": [
    "import pandas as pd\n",
    "time = []\n",
    "open = []\n",
    "high = []\n",
    "low = []\n",
    "close = []\n",
    "volume = []\n",
    "size = -1\n",
    "\n",
    "def read_df(file_name):\n",
    "\n",
    "    df = pd.read_feather(file_name)\n",
    "    df = df.dropna()    # Dropping NA values, so that talib works correctly\n",
    "    global size\n",
    "    size = df.shape[0]\n",
    "    \n",
    "    global time\n",
    "    time = df['time'].to_numpy()\n",
    "\n",
    "    global open\n",
    "    open = df['open'].to_numpy()\n",
    "\n",
    "    global high\n",
    "    high = df['high'].to_numpy()\n",
    "\n",
    "    global low\n",
    "    low = df['low'].to_numpy()\n",
    "\n",
    "    global close\n",
    "    close = df['close'].to_numpy()\n",
    "\n",
    "    global volume\n",
    "    volume = df['volume'].to_numpy()\n",
    "\n",
    "    return\n",
    "\n",
    "read_df(\"data-BNBUSDT1h.feather\")"
   ]
  },
  {
   "cell_type": "markdown",
   "metadata": {},
   "source": [
    "# Create Indicators"
   ]
  },
  {
   "cell_type": "code",
   "execution_count": 10,
   "metadata": {},
   "outputs": [],
   "source": [
    "import sys\n",
    "import numpy as np\n",
    "np.set_printoptions(threshold=sys.maxsize)\n",
    "import talib as ta    # https://github.com/mrjbq7/ta-lib\n",
    "\n",
    "ma_direction_period = 28\n",
    "ma_direction = ta.EMA(close, timeperiod=ma_direction_period)\n",
    "atr_direction_period = 14\n",
    "atr_direction = ta.ATR(high, low, close, timeperiod=atr_direction_period)"
   ]
  },
  {
   "cell_type": "markdown",
   "metadata": {},
   "source": [
    "# Generate Trades"
   ]
  },
  {
   "cell_type": "code",
   "execution_count": 11,
   "metadata": {},
   "outputs": [],
   "source": [
    "in_trade = 0    # +1 = long_entry, -1 = shor_entry\n",
    "\n",
    "entry_price = -1.0\n",
    "trades_long = []\n",
    "trades_short = []\n",
    "\n",
    "for i in range(size):\n",
    "    # Long Entry\n",
    "    if (ma_direction[i] - close[i] > 4.0*atr_direction[i]\n",
    "        and in_trade == 0.0):\n",
    "        in_trade = +1.0\n",
    "        entry_price = close[i]\n",
    "    # Long Exit\n",
    "    if (ma_direction[i] - close[i] < 0.0\n",
    "        and in_trade == 1.0):\n",
    "        in_trade = 0.0\n",
    "        trades_long.append(close[i]/entry_price)\n",
    "\n",
    "    # Short Entry\n",
    "    if (ma_direction[i] - close[i] < -4.0*atr_direction[i]\n",
    "        and in_trade == 0.0):\n",
    "        in_trade = -1.0\n",
    "        entry_price = close[i]\n",
    "    # Short Exit\n",
    "    if (ma_direction[i] - close[i] > 0.0\n",
    "        and in_trade == -1.0):\n",
    "        in_trade = 0.0\n",
    "        trades_short.append(entry_price/close[i])\n"
   ]
  },
  {
   "attachments": {},
   "cell_type": "markdown",
   "metadata": {},
   "source": [
    "# Calculate Results"
   ]
  },
  {
   "cell_type": "code",
   "execution_count": 12,
   "metadata": {},
   "outputs": [
    {
     "name": "stdout",
     "output_type": "stream",
     "text": [
      "Longs result:  1.1932475343208822\n",
      "Average Long Trade:  1.0058177152451184\n",
      "Highest DD for Longs:  0.2489020352179997\n",
      "\n",
      "Shorts result:  0.16694511027625009\n",
      "Average Short Trade:  0.9839752741179365\n",
      "Highest DD for Shorts:  0.4806757383373651\n",
      "\n",
      "Score:  2.0697872085718907\n"
     ]
    }
   ],
   "source": [
    "long_res = 1.0\n",
    "for k in trades_long:\n",
    "    long_res *= k\n",
    "\n",
    "print(\"Longs result: \", long_res)\n",
    "average_long_trades_res = np.sum(trades_long)/len(trades_long)\n",
    "print(\"Average Long Trade: \", average_long_trades_res)\n",
    "DD_long = 1.0 - np.min(trades_long)\n",
    "print(\"Highest DD for Longs: \", DD_long)\n",
    "print()\n",
    "\n",
    "short_res = 1.0\n",
    "for k in trades_short:\n",
    "    short_res *= k\n",
    "\n",
    "print(\"Shorts result: \", short_res)\n",
    "average_short_trades_res = np.sum(trades_short)/len(trades_short)\n",
    "print(\"Average Short Trade: \", average_short_trades_res)\n",
    "DD_short = 1.0 - np.min(trades_short)\n",
    "print(\"Highest DD for Shorts: \", DD_short)\n",
    "print()\n",
    "\n",
    "\n",
    "DD_highest = None\n",
    "if DD_long > DD_short:\n",
    "    DD_highest = DD_long\n",
    "else: DD_highest = DD_short\n",
    "\n",
    "score = ((average_long_trades_res + average_short_trades_res) / 2) / DD_highest\n",
    "print(\"Score: \", score)"
   ]
  },
  {
   "attachments": {},
   "cell_type": "markdown",
   "metadata": {},
   "source": [
    "# Optimize Results"
   ]
  },
  {
   "cell_type": "code",
   "execution_count": null,
   "metadata": {},
   "outputs": [],
   "source": [
    "ma_direction_period = 28\n",
    "\n",
    "atr_direction_period = 14\n"
   ]
  }
 ],
 "metadata": {
  "kernelspec": {
   "display_name": "stoch_sim",
   "language": "python",
   "name": "python3"
  },
  "language_info": {
   "codemirror_mode": {
    "name": "ipython",
    "version": 3
   },
   "file_extension": ".py",
   "mimetype": "text/x-python",
   "name": "python",
   "nbconvert_exporter": "python",
   "pygments_lexer": "ipython3",
   "version": "3.9.13"
  },
  "orig_nbformat": 4,
  "vscode": {
   "interpreter": {
    "hash": "6ae024c808c720eb53f7ce60e2e5d93c4e1909460715d773b9cb8415c3d0ae7e"
   }
  }
 },
 "nbformat": 4,
 "nbformat_minor": 2
}
