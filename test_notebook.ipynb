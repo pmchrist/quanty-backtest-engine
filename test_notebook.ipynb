{
 "cells": [
  {
   "cell_type": "markdown",
   "metadata": {},
   "source": [
    "# Read Initial Data"
   ]
  },
  {
   "cell_type": "code",
   "execution_count": 71,
   "metadata": {},
   "outputs": [],
   "source": [
    "import pandas as pd\n",
    "time = []\n",
    "open = []\n",
    "high = []\n",
    "low = []\n",
    "close = []\n",
    "volume = []\n",
    "size = -1\n",
    "\n",
    "def read_df(file_name):\n",
    "\n",
    "    df = pd.read_feather(file_name)\n",
    "    df = df.dropna()    # Dropping NA values, so that talib works correctly\n",
    "    global size\n",
    "    size = df.shape[0]\n",
    "    \n",
    "    global time\n",
    "    time = df['time'].to_numpy()\n",
    "\n",
    "    global open\n",
    "    open = df['open'].to_numpy()\n",
    "\n",
    "    global high\n",
    "    high = df['high'].to_numpy()\n",
    "\n",
    "    global low\n",
    "    low = df['low'].to_numpy()\n",
    "\n",
    "    global close\n",
    "    close = df['close'].to_numpy()\n",
    "\n",
    "    global volume\n",
    "    volume = df['volume'].to_numpy()\n",
    "\n",
    "    return\n",
    "\n",
    "read_df(\"data-BNBUSDT1h.feather\")"
   ]
  },
  {
   "cell_type": "markdown",
   "metadata": {},
   "source": [
    "# Create Indicators"
   ]
  },
  {
   "cell_type": "code",
   "execution_count": 72,
   "metadata": {},
   "outputs": [],
   "source": [
    "import sys\n",
    "import numpy as np\n",
    "np.set_printoptions(threshold=sys.maxsize)\n",
    "import talib as ta    # https://github.com/mrjbq7/ta-lib\n",
    "\n",
    "ma_direction_period = 28\n",
    "ma_direction = ta.EMA(close, timeperiod=ma_direction_period)\n",
    "atr_direction_period = 14\n",
    "atr_direction = ta.ATR(high, low, close, timeperiod=atr_direction_period)"
   ]
  },
  {
   "cell_type": "markdown",
   "metadata": {},
   "source": [
    "# Generate Trades"
   ]
  },
  {
   "cell_type": "code",
   "execution_count": 73,
   "metadata": {},
   "outputs": [],
   "source": [
    "in_trade = 0    # +1 = long_entry, -1 = shor_entry\n",
    "entry_price = -1.0\n",
    "trades_long = []\n",
    "trades_short = []\n",
    "\n",
    "for i in range(size):\n",
    "    # Long Entry\n",
    "    if (ma_direction[i] - close[i] > 4.0*atr_direction[i]\n",
    "        and in_trade == 0.0):\n",
    "        in_trade = +1.0\n",
    "        entry_price = close[i]\n",
    "    # Long Exit\n",
    "    if (ma_direction[i] - close[i] < 0.0\n",
    "        and in_trade == 1.0):\n",
    "        in_trade = 0.0\n",
    "        trades_long.append(close[i]/entry_price)\n",
    "\n",
    "    # Short Entry\n",
    "    if (ma_direction[i] - close[i] < -4.0*atr_direction[i]\n",
    "        and in_trade == 0.0):\n",
    "        in_trade = -1.0\n",
    "        entry_price = close[i]\n",
    "    # Short Exit\n",
    "    if (ma_direction[i] - close[i] > 0.0\n",
    "        and in_trade == -1.0):\n",
    "        in_trade = 0.0\n",
    "        trades_short.append(entry_price/close[i])\n"
   ]
  },
  {
   "attachments": {},
   "cell_type": "markdown",
   "metadata": {},
   "source": [
    "# Calculate Results"
   ]
  },
  {
   "cell_type": "code",
   "execution_count": 74,
   "metadata": {},
   "outputs": [
    {
     "name": "stdout",
     "output_type": "stream",
     "text": [
      "Longs result:  1.1932475343208822\n",
      "Average Long Trade:  1.0058177152451184\n",
      "Highest DD for Longs:  0.2489020352179997\n",
      "\n",
      "Shorts result:  0.16694511027625009\n",
      "Average Short Trade:  0.9839752741179365\n",
      "Highest DD for Shorts:  0.4806757383373651\n",
      "\n",
      "Score:  2.0697872085718907\n"
     ]
    }
   ],
   "source": [
    "long_res = 1.0\n",
    "for k in trades_long:\n",
    "    long_res *= k\n",
    "\n",
    "print(\"Longs result: \", long_res)\n",
    "average_long_trades_res = np.sum(trades_long)/len(trades_long)\n",
    "print(\"Average Long Trade: \", average_long_trades_res)\n",
    "DD_long = 1.0 - np.min(trades_long)\n",
    "print(\"Highest DD for Longs: \", DD_long)\n",
    "print()\n",
    "\n",
    "short_res = 1.0\n",
    "for k in trades_short:\n",
    "    short_res *= k\n",
    "\n",
    "print(\"Shorts result: \", short_res)\n",
    "average_short_trades_res = np.sum(trades_short)/len(trades_short)\n",
    "print(\"Average Short Trade: \", average_short_trades_res)\n",
    "DD_short = 1.0 - np.min(trades_short)\n",
    "print(\"Highest DD for Shorts: \", DD_short)\n",
    "print()\n",
    "\n",
    "\n",
    "DD_highest = None\n",
    "if DD_long > DD_short:\n",
    "    DD_highest = DD_long\n",
    "else: DD_highest = DD_short\n",
    "\n",
    "score = ((average_long_trades_res + average_short_trades_res) / 2) / DD_highest\n",
    "print(\"Score: \", score)"
   ]
  },
  {
   "attachments": {},
   "cell_type": "markdown",
   "metadata": {},
   "source": [
    "# Functions for Optimizations"
   ]
  },
  {
   "attachments": {},
   "cell_type": "markdown",
   "metadata": {},
   "source": [
    "# Optimize Results"
   ]
  },
  {
   "cell_type": "code",
   "execution_count": 75,
   "metadata": {},
   "outputs": [],
   "source": [
    "import matplotlib.pyplot as plt\n",
    "\n",
    "# Strategy Function\n",
    "def strategy_ma(ma_direction_period, atr_direction_period, atr_direction_coeff, show_money = False):\n",
    "    # Generate Indicators\n",
    "    ma_direction = ta.EMA(close, timeperiod=ma_direction_period)\n",
    "    atr_direction = ta.ATR(high, low, close, timeperiod=atr_direction_period)\n",
    "\n",
    "    # Calculate Trades\n",
    "    in_trade = 0    # +1 = long_entry, -1 = shor_entry\n",
    "    entry_price = -1.0\n",
    "    trades_long = []\n",
    "    trades_short = []\n",
    "    # Parse dataframe\n",
    "    for i in range(size):\n",
    "        # Long Entry\n",
    "        if (ma_direction[i] - close[i] > atr_direction_coeff*atr_direction[i]\n",
    "            and in_trade == 0.0):\n",
    "            in_trade = +1.0\n",
    "            entry_price = close[i]\n",
    "        # Long Exit\n",
    "        if (ma_direction[i] - close[i] < 0.0\n",
    "            and in_trade == 1.0):\n",
    "            in_trade = 0.0\n",
    "            trades_long.append(close[i]/entry_price)\n",
    "\n",
    "        # Short Entry\n",
    "        if (ma_direction[i] - close[i] < -atr_direction_coeff*atr_direction[i]\n",
    "            and in_trade == 0.0):\n",
    "            in_trade = -1.0\n",
    "            entry_price = close[i]\n",
    "        # Short Exit\n",
    "        if (ma_direction[i] - close[i] > 0.0\n",
    "            and in_trade == -1.0):\n",
    "            in_trade = 0.0\n",
    "            trades_short.append(entry_price/close[i])\n",
    "\n",
    "    # Calculating Stats\n",
    "    # DD Long\n",
    "    cumulitive_return_long = 1.0\n",
    "    current_high = 1.0\n",
    "    current_dd = 0.0\n",
    "    current_dd_lowest = 0.0\n",
    "    dd_long = []\n",
    "    for trade in trades_long:\n",
    "        cumulitive_return_long *= trade\n",
    "        if current_high - cumulitive_return_long > 0.0:             # Portfolio goes lower\n",
    "            current_dd = (current_high - cumulitive_return_long) / current_high\n",
    "            if current_dd > current_dd_lowest:                      # Porfolio found new lowest point\n",
    "                current_dd_lowest = current_dd\n",
    "        if cumulitive_return_long > current_high and current_dd_lowest != 0.0:     # Portfolio goes up after DD\n",
    "            dd_long.append(current_dd_lowest)\n",
    "            current_dd = 0.0\n",
    "            current_dd_lowest = 0.0\n",
    "        if cumulitive_return_long > current_high:     # Portfolio goes up\n",
    "            current_high = cumulitive_return_long\n",
    "    if current_dd_lowest != 0.0: dd_long.append(current_dd_lowest)\n",
    "\n",
    "    # DD Short\n",
    "    cumulitive_return_short = 1.0\n",
    "    current_high = 1.0\n",
    "    current_dd = 0.0\n",
    "    current_dd_lowest = 0.0\n",
    "    dd_short = []\n",
    "    for trade in trades_short:\n",
    "        cumulitive_return_short *= trade\n",
    "        if current_high - cumulitive_return_short > 0.0:             # Portfolio goes lower\n",
    "            current_dd = (current_high - cumulitive_return_short) / current_high\n",
    "            if current_dd > current_dd_lowest:                      # Porfolio found new lowest point\n",
    "                current_dd_lowest = current_dd\n",
    "        if cumulitive_return_short > current_high and current_dd_lowest != 0.0:     # Portfolio goes up after DD\n",
    "            dd_short.append(current_dd_lowest)\n",
    "            current_dd = 0.0\n",
    "            current_dd_lowest = 0.0\n",
    "        if cumulitive_return_short > current_high:     # Portfolio goes up\n",
    "            current_high = cumulitive_return_short\n",
    "    if current_dd_lowest != 0.0: dd_short.append(current_dd_lowest)\n",
    "\n",
    "    # Finding Average Trade Size\n",
    "    if len(trades_long) + len(trades_short) > 20: # If enough trades happened\n",
    "        average_long_trades_res = np.sum(trades_long)/len(trades_long)\n",
    "        average_short_trades_res = np.sum(trades_short)/len(trades_short)\n",
    "        if show_money:\n",
    "            print(\"Long Trades: \", trades_long)\n",
    "            print(\"Average Long Trade: \", average_long_trades_res)\n",
    "            print(\"Amount of Long Trades: \", len(trades_long))\n",
    "            print(\"DD Long: \", dd_long)\n",
    "            \n",
    "            print(\"Short Trades: \", trades_short)\n",
    "            print(\"Average Short Trade: \", average_short_trades_res)\n",
    "            print(\"Amount of Short Trades: \", len(trades_short))\n",
    "            print(\"DD Short: \", dd_short)\n",
    "        # (Longs/DD_long + Shorts/DD_short) / 2\n",
    "        score = (average_long_trades_res/np.max(dd_long) + average_short_trades_res/np.max(dd_short)) / 2    # Gives same weight to long/short not overall trades\n",
    "        return -score\n",
    "    else: return None\n"
   ]
  },
  {
   "cell_type": "code",
   "execution_count": 76,
   "metadata": {},
   "outputs": [],
   "source": [
    "# Generate new candidate solution\n",
    "# Random Initialization\n",
    "def get_rand_candidate_solution_ma():\n",
    "    params = []\n",
    "    params.append(np.random.randint(8, 192))\n",
    "    params.append(np.random.randint(8, 96))\n",
    "    params.append(np.random.uniform(-1.0, 5.0))\n",
    "    return params\n",
    "\n",
    "# Small pertrubation from found solution (Is not working, obviously)\n",
    "def get_candidate_solution_ma(params):\n",
    "    params[0] += np.random.randint(-4, 5)\n",
    "    if params[0] < 8: params[0] = 8\n",
    "    params[1] += np.random.randint(-4, 5)\n",
    "    if params[1] < 4: params[1] = 4\n",
    "    params[2] += np.random.uniform(-0.12, 0.12)\n",
    "    return params"
   ]
  },
  {
   "attachments": {},
   "cell_type": "markdown",
   "metadata": {},
   "source": [
    "# Simulated Annealing"
   ]
  },
  {
   "cell_type": "code",
   "execution_count": 77,
   "metadata": {},
   "outputs": [
    {
     "name": "stdout",
     "output_type": "stream",
     "text": [
      "Initial Guess:  [184, 60, 2.9978182932898556]\n",
      "Long Trades:  [1.0169811320754718, 1.027761499045816, 0.7050590853524747, 0.9879560715152497, 1.0579151381628857, 1.1110021252247835, 1.0810515541032657, 1.0489366374432, 1.0118503421167564, 0.9806776132331375, 1.0581325276340012, 0.9861640667898934, 1.0597922889321238, 0.974962164458487, 1.0147588192944565, 0.974805710109041, 1.007106360961097, 0.8132545731707318, 1.026130470752033, 1.0542830579385538, 0.9312186468804242, 1.0313595159726883, 1.048478898833457, 1.009209845075471, 0.9865715398651004, 0.5818487218518713, 1.0567975121750866, 1.0883900867994187, 0.9739280884575611, 1.0799973561876226, 1.0885601730264174, 1.0000674365674787, 1.0442698722342314, 1.0413633301013954, 1.0377819099757954, 1.0224442111679253, 1.0362787255632986, 1.0419656121520622, 1.0290750121435015, 1.0006303767428062, 1.0564841610755675, 1.0271748319049043, 1.0381250557311432, 1.0500590970991033, 1.0302879668913218, 1.0092149576472143, 1.0052024782033024, 0.9689546995439016, 1.0519364790837538, 1.0025713967179628, 0.9993906218442916, 0.9881091546723169, 0.8850917431192661, 0.9692226643190861, 0.7681417143081091, 1.0430905861456483, 1.0373127809890816, 0.8094852556623889, 1.0177101195073104, 1.0337326943556975, 0.8975089907288264, 1.019291407383769, 1.031225748949281, 1.0359137584782692, 1.03954300490587, 1.0751005831360456, 1.0179968492163092, 0.9101552138878474, 0.6187788768643989, 1.064693490441517, 1.0537537359808244, 1.0437622819431123, 1.050243369182194, 1.0467187642217224, 1.0526416040736766, 1.030108254397835, 1.0286503319819027, 0.9528462142246278, 0.9811364548830674, 1.0194882134604182, 1.0441149333603188, 1.050369158878505, 1.0255947100302727, 1.0261628308957405, 1.0093836736944655, 0.9891053677932407, 1.0358908488043852, 1.0171201332358988, 0.9559393559434007, 1.0318409089245322, 1.0622509172002015, 1.0358388221619528, 0.9996963952228141, 1.0563473684210525, 1.0491048838023116, 1.1627932307869193, 1.057245392838219, 1.0329652938750349, 1.111813657778883, 1.1294582421587342, 0.6121584125115614, 1.082676420508293, 1.0403117666778412, 1.0720236181345182, 0.9195378584691561, 1.051456934723611, 1.0348093929056403, 0.9880394865402109, 1.0398336616327426, 0.9013452914798207, 1.0354838709677419, 0.9365482233502538, 1.0388397246804326, 1.060255779636006, 1.0390455531453362, 0.978318002628121, 1.0418063150467456, 0.9972936400541271, 0.9793627805937727, 1.0230503265462927, 1.0073947667804322, 0.9004084808403033, 1.0257898130238556, 0.8724921979491751, 1.0422993492407808, 1.0204796550794932, 1.0497335701598578, 0.9319085487077535, 1.0554777248529, 1.0237143618438582, 1.0132719393282774, 1.0231308411214952, 0.9992885937870524, 1.0213969503197244, 0.9921453117329406, 1.0094871794871794, 0.8111227701993704, 1.0552659019812305, 1.0273927392739275]\n",
      "Average Long Trade:  1.0037921409999904\n",
      "Amount of Long Trades:  139\n",
      "DD Long:  [0.3034325958490339, 0.5014922545336175, 0.031045300456098487, 0.6245346279943956, 0.39267553776414554]\n",
      "Short Trades:  [0.9955530973451329, 0.9338501046224083, 1.0567810939404665, 1.1635881492318947, 0.8863937194760145, 0.9788407706240736, 1.011178001566344, 0.9702625656414103, 1.0109987631632273, 1.0384423507276537, 1.0078600276986216, 0.9857713411761295, 0.9393766233766233, 1.0181071460018365, 1.0569656799979916, 1.0089937082641758, 0.9584406113732086, 1.034424779408002, 0.9872217486028227, 1.029423375288037, 1.0262841091492778, 0.9942252165543791, 1.0785516323651536, 1.02106490798939, 1.0120200152289787, 0.8933952584111897, 0.9976742984133546, 1.0056899708079758, 0.9472495390288875, 1.1220023056065207, 0.7567483888723254, 1.0575878630100093, 0.9614742268041238, 0.6899070385126163, 1.0545287215277244, 1.0392901464383222, 0.9080375127244374, 0.8450767320145481, 1.0424244853959812, 0.7001958335164041, 1.0508368188025499, 1.0060117893932439, 0.9365218963703313, 1.043967654110285, 1.0635457608559735, 0.9832794252834429, 1.0380065688168119, 1.0508945497344568, 0.9272239499675337, 1.0326375370944851, 1.0294026702594061, 0.9611538100551668, 1.0058285092276484, 1.0288560478398974, 1.001851025380265, 0.9817337809177353, 0.8581439722463139, 0.9852195124661742, 0.7793535018648986, 1.033176912014252, 1.078478063931668, 1.0364899660767566, 1.0552330899595856, 0.897804191164534, 1.0660218368287624, 1.018956468045693, 1.0162370915448395, 0.9532765952427292, 1.0172602340247148, 0.9881817810242846, 1.020258853550041, 1.017731693100592, 0.9049721987048943, 1.0229924561373362, 0.9741151383631205, 0.9734537151308329, 0.9663523908713845, 1.031916717034578, 1.010572942758457, 1.0165281986550498, 0.8883310624451406, 0.9810718083807133, 1.0279668049792532, 0.9657048590081212, 1.034242102548818, 1.018770469904911, 1.0258112824166619, 1.0177453027139876, 1.0500342527492337, 1.0228509754729052, 0.9415247046537433, 1.057666069681386, 0.9277799238276448, 1.0764793840771658, 0.8292406671271318, 1.0161733104878026, 0.22252668882683677, 1.0996250887744494, 0.9456150820976602, 1.0668217568485923, 1.0638895048798072, 0.5244348539970556, 1.0631277320673622, 0.9177433735916349, 1.0215085675012887, 1.0580901938920895, 0.9946970701312475, 1.0476942689280568, 1.065623937436246, 1.045029997272975, 1.0317829203626723, 1.032394860185569, 1.0403550977535325, 1.031627007931747, 0.9795753662776259, 1.032360464757913, 1.0036919046059487, 0.8787977621114428, 0.8902598774561589, 1.044747899159664, 1.057256711409396, 0.8975273418925345, 0.9204137639856449, 1.0451965524490225, 0.8328854551561975, 1.0205761316872428, 1.053682037164487, 1.034838076545633, 1.0513392857142856, 1.0215373189751207, 1.0185730047811696, 1.0067255149222363, 0.9536069953849892, 1.0288764862897355, 1.007942608250064, 1.0583864118895967, 0.9088124410933083, 1.0087076076993584, 1.0280246069719754, 1.0245074483421432, 1.0229299363057325, 0.9943449575871819]\n",
      "Average Short Trade:  0.9864118741307581\n",
      "Amount of Short Trades:  142\n",
      "DD Short:  [0.07030263588708507, 0.16592561724862748, 0.9738266328374748]\n",
      "Initial Score:  -1.3100938397117137\n",
      "\n"
     ]
    },
    {
     "name": "stderr",
     "output_type": "stream",
     "text": [
      "/tmp/ipykernel_20060/2117758087.py:52: RuntimeWarning: overflow encountered in exp\n",
      "  if np.random.random() < np.exp(-delta_energy / temp):   # Value is >1 if solution is better anyway, otherwise Metropolis is used\n"
     ]
    },
    {
     "name": "stdout",
     "output_type": "stream",
     "text": [
      "Found Params:  [14, 8, 3.562699033379002]\n",
      "Long Trades:  [1.06944670937682, 1.043556701030928, 1.0516917628747475, 0.9482175583801361, 0.9030350877192983, 1.036677096370463, 1.039265569630718, 1.0284817421774144, 1.0233889027121175, 1.0471404642258915]\n",
      "Average Long Trade:  1.0190901594498536\n",
      "Amount of Long Trades:  10\n",
      "DD Long:  [0.14372627399121488]\n",
      "Short Trades:  [0.8161711140490516, 1.048457062581276, 1.0356052899287893, 0.9939546969666606, 0.9974205955524352, 1.0450832131964263, 1.0365291973961288, 0.9957314826188429, 0.973330468941812, 0.988012119615334, 1.0007783265978147, 1.0006930837091104, 1.0364615427707133, 0.7673613940308261, 1.0017296341126378, 1.0143234682967177, 0.9924690693921463, 1.0155135520684737, 1.0177184466019418]\n",
      "Average Short Trade:  0.9882812504435337\n",
      "Amount of Short Trades:  19\n",
      "DD Short:  [0.2741277040680937]\n",
      "-5.3478393673750535\n"
     ]
    }
   ],
   "source": [
    "import copy\n",
    "\n",
    "# Cooling Schedules\n",
    "temp_max = 1.0\n",
    "temp_min = 0.0\n",
    "outer_loop = 100\n",
    "inner_loop = 20\n",
    "\n",
    "def cool_lin_a(step):\n",
    "    return temp_min + (temp_max - temp_min) * ((outer_loop - step)/outer_loop)\n",
    "def cool_quad_a(step):\n",
    "    return temp_min + (temp_max - temp_min) * ((outer_loop - step)/outer_loop)**2\n",
    "def cool_exp_a(step):\n",
    "    return temp_min + (temp_max - temp_min) * ((outer_loop - step)/outer_loop)**np.sqrt(step)\n",
    "def cool_cos_a(step):\n",
    "    return temp_min + 0.5*(temp_max - temp_min) * (1 + np.cos(step*np.pi/outer_loop))\n",
    "\n",
    "# Simulated Annealing\n",
    "def annealing_solution():\n",
    "\n",
    "    step = 0\n",
    "    temp = temp_max\n",
    "\n",
    "    # Generate Init Candidate Solution\n",
    "    candidate_params = get_rand_candidate_solution_ma()\n",
    "    print(\"Initial Guess: \", candidate_params)\n",
    "    best_params = copy.deepcopy(candidate_params)\n",
    "    current_energy = strategy_ma(candidate_params[0], candidate_params[1], candidate_params[2], show_money=True)\n",
    "    print(\"Initial Score: \", current_energy)\n",
    "    print()\n",
    "    best_solution = current_energy\n",
    "\n",
    "    # Annealing Schedule\n",
    "    while step < outer_loop:\n",
    "        \n",
    "        step += 1\n",
    "        mc_step = 0\n",
    "\n",
    "        while mc_step < inner_loop:\n",
    "\n",
    "            mc_step += 1\n",
    "\n",
    "            # Generate Candidate Solution\n",
    "            candidate_params = get_rand_candidate_solution_ma()\n",
    "            candidate_energy = strategy_ma(candidate_params[0], candidate_params[1], candidate_params[2])\n",
    "            if candidate_energy:    # If any solution found\n",
    "                delta_energy = candidate_energy - current_energy    # Positive if solution is better, and is always accepted\n",
    "                if candidate_energy < best_solution:\n",
    "                    best_solution = candidate_energy\n",
    "                    best_params = copy.deepcopy(candidate_params)\n",
    "\n",
    "                if np.random.random() < np.exp(-delta_energy / temp):   # Value is >1 if solution is better anyway, otherwise Metropolis is used\n",
    "                    current_energy = candidate_energy\n",
    "            \n",
    "        # Cooling Function\n",
    "        temp = cool_exp_a(step)\n",
    "        \n",
    "    return best_params\n",
    "\n",
    "found_sol = annealing_solution()\n",
    "print(\"Found Params: \", found_sol)\n",
    "print(strategy_ma(found_sol[0], found_sol[1], found_sol[2], show_money=True))"
   ]
  },
  {
   "attachments": {},
   "cell_type": "markdown",
   "metadata": {},
   "source": [
    "# Pyswarms"
   ]
  },
  {
   "cell_type": "code",
   "execution_count": 78,
   "metadata": {},
   "outputs": [
    {
     "name": "stderr",
     "output_type": "stream",
     "text": [
      "2022-12-25 02:43:37,815 - pyswarms.single.global_best - INFO - Optimize for 1000 iters with {'c1': 0.5, 'c2': 0.3, 'w': 0.9}\n",
      "pyswarms.single.global_best: 100%|██████████|1000/1000, best_cost=3.99e-44\n",
      "2022-12-25 02:43:39,650 - pyswarms.single.global_best - INFO - Optimization finished | best cost: 3.9939864794188724e-44, best pos: [ 1.82199969e-22 -8.21159920e-23]\n"
     ]
    }
   ],
   "source": [
    "# Import modules\n",
    "import numpy as np\n",
    "\n",
    "# Import PySwarms\n",
    "import pyswarms as ps\n",
    "from pyswarms.utils.functions import single_obj as fx\n",
    "\n",
    "# Set-up hyperparameters\n",
    "options = {'c1': 0.5, 'c2': 0.3, 'w':0.9}\n",
    "\n",
    "# Call instance of PSO\n",
    "optimizer = ps.single.GlobalBestPSO(n_particles=10, dimensions=2, options=options)\n",
    "\n",
    "# Perform optimization\n",
    "cost, pos = optimizer.optimize(fx.sphere, iters=1000)"
   ]
  }
 ],
 "metadata": {
  "kernelspec": {
   "display_name": "stoch_sim",
   "language": "python",
   "name": "python3"
  },
  "language_info": {
   "codemirror_mode": {
    "name": "ipython",
    "version": 3
   },
   "file_extension": ".py",
   "mimetype": "text/x-python",
   "name": "python",
   "nbconvert_exporter": "python",
   "pygments_lexer": "ipython3",
   "version": "3.9.13"
  },
  "orig_nbformat": 4,
  "vscode": {
   "interpreter": {
    "hash": "6ae024c808c720eb53f7ce60e2e5d93c4e1909460715d773b9cb8415c3d0ae7e"
   }
  }
 },
 "nbformat": 4,
 "nbformat_minor": 2
}
