{
 "cells": [
  {
   "cell_type": "markdown",
   "metadata": {},
   "source": [
    "# Read Initial Data"
   ]
  },
  {
   "cell_type": "code",
   "execution_count": 45,
   "metadata": {},
   "outputs": [],
   "source": [
    "import pandas as pd\n",
    "time = []\n",
    "open = []\n",
    "high = []\n",
    "low = []\n",
    "close = []\n",
    "volume = []\n",
    "size = -1\n",
    "\n",
    "def read_df(file_name):\n",
    "\n",
    "    df = pd.read_feather(file_name)\n",
    "    df = df.dropna()    # Dropping NA values, so that talib works correctly\n",
    "    global size\n",
    "    size = df.shape[0]\n",
    "    \n",
    "    global time\n",
    "    time = df['time'].to_numpy()\n",
    "\n",
    "    global open\n",
    "    open = df['open'].to_numpy()\n",
    "\n",
    "    global high\n",
    "    high = df['high'].to_numpy()\n",
    "\n",
    "    global low\n",
    "    low = df['low'].to_numpy()\n",
    "\n",
    "    global close\n",
    "    close = df['close'].to_numpy()\n",
    "\n",
    "    global volume\n",
    "    volume = df['volume'].to_numpy()\n",
    "\n",
    "    return\n",
    "\n",
    "read_df(\"data-BNBUSDT1h.feather\")"
   ]
  },
  {
   "cell_type": "markdown",
   "metadata": {},
   "source": [
    "# Create Indicators"
   ]
  },
  {
   "cell_type": "code",
   "execution_count": 46,
   "metadata": {},
   "outputs": [],
   "source": [
    "import sys\n",
    "import numpy as np\n",
    "np.set_printoptions(threshold=sys.maxsize)\n",
    "import talib as ta    # https://github.com/mrjbq7/ta-lib\n",
    "\n",
    "ma_direction_period = 28\n",
    "ma_direction = ta.EMA(close, timeperiod=ma_direction_period)\n",
    "atr_direction_period = 14\n",
    "atr_direction = ta.ATR(high, low, close, timeperiod=atr_direction_period)"
   ]
  },
  {
   "cell_type": "markdown",
   "metadata": {},
   "source": [
    "# Generate Trades"
   ]
  },
  {
   "cell_type": "code",
   "execution_count": 47,
   "metadata": {},
   "outputs": [],
   "source": [
    "in_trade = 0    # +1 = long_entry, -1 = shor_entry\n",
    "entry_price = -1.0\n",
    "trades_long = []\n",
    "trades_short = []\n",
    "\n",
    "for i in range(size):\n",
    "    # Long Entry\n",
    "    if (ma_direction[i] - close[i] > 4.0*atr_direction[i]\n",
    "        and in_trade == 0.0):\n",
    "        in_trade = +1.0\n",
    "        entry_price = close[i]\n",
    "    # Long Exit\n",
    "    if (ma_direction[i] - close[i] < 0.0\n",
    "        and in_trade == 1.0):\n",
    "        in_trade = 0.0\n",
    "        trades_long.append(close[i]/entry_price)\n",
    "\n",
    "    # Short Entry\n",
    "    if (ma_direction[i] - close[i] < -4.0*atr_direction[i]\n",
    "        and in_trade == 0.0):\n",
    "        in_trade = -1.0\n",
    "        entry_price = close[i]\n",
    "    # Short Exit\n",
    "    if (ma_direction[i] - close[i] > 0.0\n",
    "        and in_trade == -1.0):\n",
    "        in_trade = 0.0\n",
    "        trades_short.append(entry_price/close[i])\n"
   ]
  },
  {
   "attachments": {},
   "cell_type": "markdown",
   "metadata": {},
   "source": [
    "# Calculate Results"
   ]
  },
  {
   "cell_type": "code",
   "execution_count": 48,
   "metadata": {},
   "outputs": [
    {
     "name": "stdout",
     "output_type": "stream",
     "text": [
      "Longs result:  1.1932475343208822\n",
      "Average Long Trade:  1.0058177152451184\n",
      "Highest DD for Longs:  0.2489020352179997\n",
      "\n",
      "Shorts result:  0.16694511027625009\n",
      "Average Short Trade:  0.9839752741179365\n",
      "Highest DD for Shorts:  0.4806757383373651\n",
      "\n",
      "Score:  2.0697872085718907\n"
     ]
    }
   ],
   "source": [
    "long_res = 1.0\n",
    "for k in trades_long:\n",
    "    long_res *= k\n",
    "\n",
    "print(\"Longs result: \", long_res)\n",
    "average_long_trades_res = np.sum(trades_long)/len(trades_long)\n",
    "print(\"Average Long Trade: \", average_long_trades_res)\n",
    "DD_long = 1.0 - np.min(trades_long)\n",
    "print(\"Highest DD for Longs: \", DD_long)\n",
    "print()\n",
    "\n",
    "short_res = 1.0\n",
    "for k in trades_short:\n",
    "    short_res *= k\n",
    "\n",
    "print(\"Shorts result: \", short_res)\n",
    "average_short_trades_res = np.sum(trades_short)/len(trades_short)\n",
    "print(\"Average Short Trade: \", average_short_trades_res)\n",
    "DD_short = 1.0 - np.min(trades_short)\n",
    "print(\"Highest DD for Shorts: \", DD_short)\n",
    "print()\n",
    "\n",
    "\n",
    "DD_highest = None\n",
    "if DD_long > DD_short:\n",
    "    DD_highest = DD_long\n",
    "else: DD_highest = DD_short\n",
    "\n",
    "score = ((average_long_trades_res + average_short_trades_res) / 2) / DD_highest\n",
    "print(\"Score: \", score)"
   ]
  },
  {
   "attachments": {},
   "cell_type": "markdown",
   "metadata": {},
   "source": [
    "# Optimize Results"
   ]
  },
  {
   "cell_type": "code",
   "execution_count": 49,
   "metadata": {},
   "outputs": [],
   "source": [
    "# Strategy Function\n",
    "def strategy_ma(ma_direction_period, atr_direction_period, atr_direction_coeff, show_money = False):\n",
    "    # Generate Indicators\n",
    "    ma_direction = ta.EMA(close, timeperiod=ma_direction_period)\n",
    "    atr_direction = ta.ATR(high, low, close, timeperiod=atr_direction_period)\n",
    "\n",
    "    # Calculate Trades\n",
    "    in_trade = 0    # +1 = long_entry, -1 = shor_entry\n",
    "    entry_price = -1.0\n",
    "    trades_long = []\n",
    "    trades_short = []\n",
    "    # Parse dataframe\n",
    "    for i in range(size):\n",
    "        # Long Entry\n",
    "        if (ma_direction[i] - close[i] > atr_direction_coeff*atr_direction[i]\n",
    "            and in_trade == 0.0):\n",
    "            in_trade = +1.0\n",
    "            entry_price = close[i]\n",
    "        # Long Exit\n",
    "        if (ma_direction[i] - close[i] < 0.0\n",
    "            and in_trade == 1.0):\n",
    "            in_trade = 0.0\n",
    "            trades_long.append(close[i]/entry_price)\n",
    "\n",
    "        # Short Entry\n",
    "        if (ma_direction[i] - close[i] < -atr_direction_coeff*atr_direction[i]\n",
    "            and in_trade == 0.0):\n",
    "            in_trade = -1.0\n",
    "            entry_price = close[i]\n",
    "        # Short Exit\n",
    "        if (ma_direction[i] - close[i] > 0.0\n",
    "            and in_trade == -1.0):\n",
    "            in_trade = 0.0\n",
    "            trades_short.append(entry_price/close[i])\n",
    "\n",
    "    # Calculating Stats\n",
    "    # Finding Average Trade Size\n",
    "    if trades_long and trades_short: # If any trade happened\n",
    "        average_long_trades_res = np.sum(trades_long)/len(trades_long)\n",
    "        average_short_trades_res = np.sum(trades_short)/len(trades_short)\n",
    "        # Finding DD\n",
    "        DD_long = 1.0 - np.min(trades_long)\n",
    "        DD_short = 1.0 - np.min(trades_short)\n",
    "        if show_money:\n",
    "            print(\"Average Long Trade: \", average_long_trades_res)\n",
    "            print(\"Average Short Trade: \", average_short_trades_res)\n",
    "            print(\"Long DD \", DD_long)\n",
    "            print(\"Short DD \", DD_short)\n",
    "        DD_highest = None\n",
    "        if DD_long > DD_short:\n",
    "            DD_highest = DD_long\n",
    "        else: DD_highest = DD_short\n",
    "        score = ((average_long_trades_res + average_short_trades_res) / 2) / DD_highest\n",
    "        return score\n",
    "    else: return None\n"
   ]
  },
  {
   "cell_type": "code",
   "execution_count": 50,
   "metadata": {},
   "outputs": [
    {
     "name": "stdout",
     "output_type": "stream",
     "text": [
      "152\n",
      "34\n",
      "-2.0\n"
     ]
    }
   ],
   "source": [
    "ma_direction_period = np.arange(8, 256, 4)\n",
    "atr_direction_period = np.arange(4, 64, 2)\n",
    "atr_direction_coeff = np.linspace(-2.0, 6.0, 100)\n",
    "\n",
    "ma_direction_period_value = np.random.choice(ma_direction_period)\n",
    "print(ma_direction_period_value)\n",
    "atr_direction_period_value = np.random.choice(atr_direction_period)\n",
    "print(atr_direction_period_value)\n",
    "atr_direction_coeff_value = np.random.choice(atr_direction_coeff)\n",
    "print(atr_direction_coeff_value)"
   ]
  },
  {
   "attachments": {},
   "cell_type": "markdown",
   "metadata": {},
   "source": [
    "# Simulated Annealing"
   ]
  },
  {
   "cell_type": "code",
   "execution_count": 51,
   "metadata": {},
   "outputs": [
    {
     "name": "stdout",
     "output_type": "stream",
     "text": [
      "Average Long Trade:  1.1400349446709377\n",
      "Average Short Trade:  1.025509912160195\n",
      "Long DD  -0.1400349446709377\n",
      "Short DD  -0.020691333982473248\n",
      "-52.32975454036637\n"
     ]
    }
   ],
   "source": [
    "# Cooling Schedules\n",
    "temp_max = 1.5\n",
    "temp_min = 0.0\n",
    "outer_loop = 100\n",
    "inner_loop = 20\n",
    "def cool_lin_a(step):\n",
    "    return temp_min + (temp_max - temp_min) * ((outer_loop - step)/outer_loop)\n",
    "def cool_quad_a(step):\n",
    "    return temp_min + (temp_max - temp_min) * ((outer_loop - step)/outer_loop)**2\n",
    "def cool_exp_a(step):\n",
    "    return temp_min + (temp_max - temp_min) * ((outer_loop - step)/outer_loop)**np.sqrt(step)\n",
    "def cool_cos_a(step):\n",
    "    return temp_min + 0.5*(temp_max - temp_min) * (1 + np.cos(step*np.pi/outer_loop))\n",
    "\n",
    "# Simulated Annealing\n",
    "def annealing_solution():\n",
    "\n",
    "    best_solution = 9.9     # Just a big number to minimize it\n",
    "    step = 0\n",
    "    cooling_arr = []\n",
    "    temp = temp_max\n",
    "\n",
    "    # Generate Init Candidate Solution\n",
    "    ma_direction_period_value = np.random.choice(ma_direction_period)\n",
    "    atr_direction_period_value = np.random.choice(atr_direction_period)\n",
    "    atr_direction_coeff_value = np.random.choice(atr_direction_coeff)\n",
    "\n",
    "    current_energy = strategy_ma(ma_direction_period_value, atr_direction_period_value, atr_direction_coeff_value)\n",
    "    best_params = [ma_direction_period_value, atr_direction_period_value, atr_direction_coeff_value]\n",
    "\n",
    "    # Annealing Schedule\n",
    "    while step < outer_loop:\n",
    "        \n",
    "        step += 1\n",
    "        mc_step = 0\n",
    "\n",
    "        while mc_step < inner_loop:\n",
    "\n",
    "            mc_step += 1\n",
    "\n",
    "            # Generate Candidate Solution\n",
    "            ma_direction_period_value = np.random.choice(ma_direction_period)\n",
    "            atr_direction_period_value = np.random.choice(atr_direction_period)\n",
    "            atr_direction_coeff_value = np.random.choice(atr_direction_coeff)\n",
    "\n",
    "            candidate_energy = strategy_ma(ma_direction_period_value, atr_direction_period_value, atr_direction_coeff_value)\n",
    "            # In a correct solution candidate energy should be saved to be iterated upon\n",
    "            if candidate_energy:    # If any solution found\n",
    "                delta_energy = candidate_energy - current_energy    # Positive if solution is better, and is always accepted\n",
    "                if candidate_energy < best_solution:\n",
    "                    best_solution = candidate_energy\n",
    "                    best_params = [ma_direction_period_value, atr_direction_period_value, atr_direction_coeff_value]\n",
    "\n",
    "                if np.random.random() < np.exp(-delta_energy / temp):   # Value is >1 if solution is better anyway, otherwise Metropolis is used\n",
    "                    current_energy = candidate_energy\n",
    "            \n",
    "        # Cooling Function\n",
    "        temp = cool_quad_a(step)\n",
    "        \n",
    "    return best_params\n",
    "\n",
    "found_sol = annealing_solution()\n",
    "print(strategy_ma(found_sol[0], found_sol[1], found_sol[2], show_money=True))"
   ]
  }
 ],
 "metadata": {
  "kernelspec": {
   "display_name": "stoch_sim",
   "language": "python",
   "name": "python3"
  },
  "language_info": {
   "codemirror_mode": {
    "name": "ipython",
    "version": 3
   },
   "file_extension": ".py",
   "mimetype": "text/x-python",
   "name": "python",
   "nbconvert_exporter": "python",
   "pygments_lexer": "ipython3",
   "version": "3.9.13"
  },
  "orig_nbformat": 4,
  "vscode": {
   "interpreter": {
    "hash": "6ae024c808c720eb53f7ce60e2e5d93c4e1909460715d773b9cb8415c3d0ae7e"
   }
  }
 },
 "nbformat": 4,
 "nbformat_minor": 2
}
