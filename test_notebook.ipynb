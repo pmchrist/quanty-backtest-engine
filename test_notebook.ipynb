{
 "cells": [
  {
   "cell_type": "markdown",
   "metadata": {},
   "source": [
    "# Read Initial Data"
   ]
  },
  {
   "cell_type": "code",
   "execution_count": 1,
   "metadata": {},
   "outputs": [],
   "source": [
    "import pandas as pd\n",
    "time = []\n",
    "open = []\n",
    "high = []\n",
    "low = []\n",
    "close = []\n",
    "volume = []\n",
    "size = -1\n",
    "\n",
    "def read_df(file_name):\n",
    "\n",
    "    df = pd.read_feather(file_name)\n",
    "    df = df.dropna()    # Dropping NA values, so that talib works correctly\n",
    "    global size\n",
    "    size = df.shape[0]\n",
    "    \n",
    "    global time\n",
    "    time = df['time'].to_numpy()\n",
    "\n",
    "    global open\n",
    "    open = df['open'].to_numpy()\n",
    "\n",
    "    global high\n",
    "    high = df['high'].to_numpy()\n",
    "\n",
    "    global low\n",
    "    low = df['low'].to_numpy()\n",
    "\n",
    "    global close\n",
    "    close = df['close'].to_numpy()\n",
    "\n",
    "    global volume\n",
    "    volume = df['volume'].to_numpy()\n",
    "\n",
    "    return\n",
    "\n",
    "read_df(\"data-BNBUSDT1h.feather\")"
   ]
  },
  {
   "cell_type": "markdown",
   "metadata": {},
   "source": [
    "# Create Indicators"
   ]
  },
  {
   "cell_type": "code",
   "execution_count": 2,
   "metadata": {},
   "outputs": [],
   "source": [
    "import sys\n",
    "import numpy as np\n",
    "np.set_printoptions(threshold=sys.maxsize)\n",
    "import talib as ta    # https://github.com/mrjbq7/ta-lib\n",
    "\n",
    "ma_direction_period = 28\n",
    "ma_direction = ta.EMA(close, timeperiod=ma_direction_period)\n",
    "atr_direction_period = 14\n",
    "atr_direction = ta.ATR(high, low, close, timeperiod=atr_direction_period)"
   ]
  },
  {
   "cell_type": "markdown",
   "metadata": {},
   "source": [
    "# Generate Trades"
   ]
  },
  {
   "cell_type": "code",
   "execution_count": 3,
   "metadata": {},
   "outputs": [],
   "source": [
    "in_trade = 0    # +1 = long_entry, -1 = shor_entry\n",
    "entry_price = -1.0\n",
    "trades_long = []\n",
    "trades_short = []\n",
    "\n",
    "for i in range(size):\n",
    "    # Long Entry\n",
    "    if (ma_direction[i] - close[i] > 4.0*atr_direction[i]\n",
    "        and in_trade == 0.0):\n",
    "        in_trade = +1.0\n",
    "        entry_price = close[i]\n",
    "    # Long Exit\n",
    "    if (ma_direction[i] - close[i] < 0.0\n",
    "        and in_trade == 1.0):\n",
    "        in_trade = 0.0\n",
    "        trades_long.append(close[i]/entry_price)\n",
    "\n",
    "    # Short Entry\n",
    "    if (ma_direction[i] - close[i] < -4.0*atr_direction[i]\n",
    "        and in_trade == 0.0):\n",
    "        in_trade = -1.0\n",
    "        entry_price = close[i]\n",
    "    # Short Exit\n",
    "    if (ma_direction[i] - close[i] > 0.0\n",
    "        and in_trade == -1.0):\n",
    "        in_trade = 0.0\n",
    "        trades_short.append(entry_price/close[i])\n"
   ]
  },
  {
   "attachments": {},
   "cell_type": "markdown",
   "metadata": {},
   "source": [
    "# Calculate Results"
   ]
  },
  {
   "cell_type": "code",
   "execution_count": 4,
   "metadata": {},
   "outputs": [
    {
     "name": "stdout",
     "output_type": "stream",
     "text": [
      "Longs result:  1.1932475343208822\n",
      "Average Long Trade:  1.0058177152451184\n",
      "Highest DD for Longs:  0.2489020352179997\n",
      "\n",
      "Shorts result:  0.16694511027625009\n",
      "Average Short Trade:  0.9839752741179365\n",
      "Highest DD for Shorts:  0.4806757383373651\n",
      "\n",
      "Score:  2.0697872085718907\n"
     ]
    }
   ],
   "source": [
    "long_res = 1.0\n",
    "for k in trades_long:\n",
    "    long_res *= k\n",
    "\n",
    "print(\"Longs result: \", long_res)\n",
    "average_long_trades_res = np.sum(trades_long)/len(trades_long)\n",
    "print(\"Average Long Trade: \", average_long_trades_res)\n",
    "DD_long = 1.0 - np.min(trades_long)\n",
    "print(\"Highest DD for Longs: \", DD_long)\n",
    "print()\n",
    "\n",
    "short_res = 1.0\n",
    "for k in trades_short:\n",
    "    short_res *= k\n",
    "\n",
    "print(\"Shorts result: \", short_res)\n",
    "average_short_trades_res = np.sum(trades_short)/len(trades_short)\n",
    "print(\"Average Short Trade: \", average_short_trades_res)\n",
    "DD_short = 1.0 - np.min(trades_short)\n",
    "print(\"Highest DD for Shorts: \", DD_short)\n",
    "print()\n",
    "\n",
    "\n",
    "DD_highest = None\n",
    "if DD_long > DD_short:\n",
    "    DD_highest = DD_long\n",
    "else: DD_highest = DD_short\n",
    "\n",
    "score = ((average_long_trades_res + average_short_trades_res) / 2) / DD_highest\n",
    "print(\"Score: \", score)"
   ]
  },
  {
   "attachments": {},
   "cell_type": "markdown",
   "metadata": {},
   "source": [
    "# Optimize Results"
   ]
  },
  {
   "cell_type": "code",
   "execution_count": 5,
   "metadata": {},
   "outputs": [],
   "source": [
    "# Strategy Function\n",
    "def strategy_ma(ma_direction_period, atr_direction_period, atr_direction_coeff, show_money = False):\n",
    "    # Generate Indicators\n",
    "    ma_direction = ta.EMA(close, timeperiod=ma_direction_period)\n",
    "    atr_direction = ta.ATR(high, low, close, timeperiod=atr_direction_period)\n",
    "\n",
    "    # Calculate Trades\n",
    "    in_trade = 0    # +1 = long_entry, -1 = shor_entry\n",
    "    entry_price = -1.0\n",
    "    trades_long = []\n",
    "    trades_short = []\n",
    "    # Parse dataframe\n",
    "    for i in range(size):\n",
    "        # Long Entry\n",
    "        if (ma_direction[i] - close[i] > atr_direction_coeff*atr_direction[i]\n",
    "            and in_trade == 0.0):\n",
    "            in_trade = +1.0\n",
    "            entry_price = close[i]\n",
    "        # Long Exit\n",
    "        if (ma_direction[i] - close[i] < 0.0\n",
    "            and in_trade == 1.0):\n",
    "            in_trade = 0.0\n",
    "            trades_long.append(close[i]/entry_price)\n",
    "\n",
    "        # Short Entry\n",
    "        if (ma_direction[i] - close[i] < -atr_direction_coeff*atr_direction[i]\n",
    "            and in_trade == 0.0):\n",
    "            in_trade = -1.0\n",
    "            entry_price = close[i]\n",
    "        # Short Exit\n",
    "        if (ma_direction[i] - close[i] > 0.0\n",
    "            and in_trade == -1.0):\n",
    "            in_trade = 0.0\n",
    "            trades_short.append(entry_price/close[i])\n",
    "\n",
    "    # Calculating Stats\n",
    "    # Finding Average Trade Size\n",
    "    if trades_long and trades_short: # If any trade happened\n",
    "        average_long_trades_res = np.sum(trades_long)/len(trades_long)\n",
    "        average_short_trades_res = np.sum(trades_short)/len(trades_short)\n",
    "        if show_money:\n",
    "            print(\"Average Long Trade: \", average_long_trades_res)\n",
    "            print(\"Amount of Long Trades: \", len(trades_long))\n",
    "            print(\"Average Short Trade: \", average_short_trades_res)\n",
    "            print(\"Amount of Short Trades: \", len(trades_short))\n",
    "        score = (average_long_trades_res + average_short_trades_res) / 2    # Gives same weight to long/short not overall trades\n",
    "        return score\n",
    "    else: return None\n"
   ]
  },
  {
   "cell_type": "code",
   "execution_count": 6,
   "metadata": {},
   "outputs": [],
   "source": [
    "# Random Initialization\n",
    "def get_rand_candidate_solution_ma():\n",
    "    params = []\n",
    "    params.append(np.random.randint(128, 144))\n",
    "    params.append(np.random.randint(24, 48))\n",
    "    params.append(np.random.uniform(1.0, 3.0))\n",
    "    return params\n",
    "\n",
    "# Small pertrubation from found solution\n",
    "def get_candidate_solution_ma(params):\n",
    "    params[0] += np.random.randint(-4, 5)\n",
    "    if params[0] < 8: params[0] = 8\n",
    "    params[1] += np.random.randint(-4, 5)\n",
    "    if params[1] < 4: params[1] = 4\n",
    "    params[2] += np.random.uniform(-0.2, 0.3)\n",
    "    return params"
   ]
  },
  {
   "attachments": {},
   "cell_type": "markdown",
   "metadata": {},
   "source": [
    "# Simulated Annealing"
   ]
  },
  {
   "cell_type": "code",
   "execution_count": 7,
   "metadata": {},
   "outputs": [
    {
     "name": "stdout",
     "output_type": "stream",
     "text": [
      "Initial Guess:  [139, 39, 1.4596221707607222]\n",
      "Found Params:  [169, 36, 12.861957702512225]\n",
      "Average Long Trade:  1.043950272221074\n",
      "Amount of Long Trades:  5\n",
      "Average Short Trade:  0.7062618454407253\n",
      "Amount of Short Trades:  2\n",
      "0.8751060588308996\n"
     ]
    }
   ],
   "source": [
    "import copy\n",
    "\n",
    "# Cooling Schedules\n",
    "temp_max = 0.1\n",
    "temp_min = 0.0\n",
    "outer_loop = 200\n",
    "inner_loop = 10\n",
    "\n",
    "def cool_lin_a(step):\n",
    "    return temp_min + (temp_max - temp_min) * ((outer_loop - step)/outer_loop)\n",
    "def cool_quad_a(step):\n",
    "    return temp_min + (temp_max - temp_min) * ((outer_loop - step)/outer_loop)**2\n",
    "def cool_exp_a(step):\n",
    "    return temp_min + (temp_max - temp_min) * ((outer_loop - step)/outer_loop)**np.sqrt(step)\n",
    "def cool_cos_a(step):\n",
    "    return temp_min + 0.5*(temp_max - temp_min) * (1 + np.cos(step*np.pi/outer_loop))\n",
    "\n",
    "# Simulated Annealing\n",
    "def annealing_solution():\n",
    "\n",
    "    step = 0\n",
    "    temp = temp_max\n",
    "\n",
    "    # Generate Init Candidate Solution\n",
    "    candidate_params = get_rand_candidate_solution_ma()\n",
    "    print(\"Initial Guess: \", candidate_params)\n",
    "    best_params = copy.deepcopy(candidate_params)\n",
    "    current_energy = strategy_ma(candidate_params[0], candidate_params[1], candidate_params[2])\n",
    "    best_solution = current_energy\n",
    "\n",
    "    # Annealing Schedule\n",
    "    while step < outer_loop:\n",
    "        \n",
    "        step += 1\n",
    "        mc_step = 0\n",
    "\n",
    "        while mc_step < inner_loop:\n",
    "\n",
    "            mc_step += 1\n",
    "\n",
    "            # Generate Candidate Solution\n",
    "            candidate_params = get_candidate_solution_ma(candidate_params)\n",
    "\n",
    "            candidate_energy = strategy_ma(candidate_params[0], candidate_params[1], candidate_params[2])\n",
    "            if candidate_energy:    # If any solution found\n",
    "                delta_energy = candidate_energy - current_energy    # Positive if solution is better, and is always accepted\n",
    "                if candidate_energy < best_solution:\n",
    "                    best_solution = candidate_energy\n",
    "                    best_params = copy.deepcopy(candidate_params)\n",
    "\n",
    "                if np.random.random() < np.exp(-delta_energy / temp):   # Value is >1 if solution is better anyway, otherwise Metropolis is used\n",
    "                    current_energy = candidate_energy\n",
    "            \n",
    "        # Cooling Function\n",
    "        temp = cool_quad_a(step)\n",
    "        \n",
    "    return best_params\n",
    "\n",
    "found_sol = annealing_solution()\n",
    "print(\"Found Params: \", found_sol)\n",
    "print(strategy_ma(found_sol[0], found_sol[1], found_sol[2], show_money=True))"
   ]
  },
  {
   "attachments": {},
   "cell_type": "markdown",
   "metadata": {},
   "source": [
    "# Pyswarm"
   ]
  },
  {
   "cell_type": "code",
   "execution_count": 8,
   "metadata": {},
   "outputs": [
    {
     "name": "stderr",
     "output_type": "stream",
     "text": [
      "2022-12-24 23:28:57,584 - pyswarms.single.global_best - INFO - Optimize for 1000 iters with {'c1': 0.5, 'c2': 0.3, 'w': 0.9}\n",
      "pyswarms.single.global_best: 100%|██████████|1000/1000, best_cost=1.05e-41\n",
      "2022-12-24 23:29:00,605 - pyswarms.single.global_best - INFO - Optimization finished | best cost: 1.0479898019839176e-41, best pos: [-3.05678166e-21  1.06582547e-21]\n"
     ]
    }
   ],
   "source": [
    "# Import modules\n",
    "import numpy as np\n",
    "\n",
    "# Import PySwarms\n",
    "import pyswarms as ps\n",
    "from pyswarms.utils.functions import single_obj as fx\n",
    "\n",
    "# Set-up hyperparameters\n",
    "options = {'c1': 0.5, 'c2': 0.3, 'w':0.9}\n",
    "\n",
    "# Call instance of PSO\n",
    "optimizer = ps.single.GlobalBestPSO(n_particles=10, dimensions=2, options=options)\n",
    "\n",
    "# Perform optimization\n",
    "cost, pos = optimizer.optimize(fx.sphere, iters=1000)"
   ]
  }
 ],
 "metadata": {
  "kernelspec": {
   "display_name": "stoch_sim",
   "language": "python",
   "name": "python3"
  },
  "language_info": {
   "codemirror_mode": {
    "name": "ipython",
    "version": 3
   },
   "file_extension": ".py",
   "mimetype": "text/x-python",
   "name": "python",
   "nbconvert_exporter": "python",
   "pygments_lexer": "ipython3",
   "version": "3.9.13"
  },
  "orig_nbformat": 4,
  "vscode": {
   "interpreter": {
    "hash": "6ae024c808c720eb53f7ce60e2e5d93c4e1909460715d773b9cb8415c3d0ae7e"
   }
  }
 },
 "nbformat": 4,
 "nbformat_minor": 2
}
